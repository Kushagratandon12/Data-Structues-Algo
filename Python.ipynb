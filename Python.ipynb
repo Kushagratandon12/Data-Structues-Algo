{
  "nbformat": 4,
  "nbformat_minor": 0,
  "metadata": {
    "colab": {
      "name": "Python.ipynb",
      "provenance": [],
      "collapsed_sections": [],
      "authorship_tag": "ABX9TyMiv3HTayStkr+gc7IxebqD",
      "include_colab_link": true
    },
    "kernelspec": {
      "name": "python3",
      "display_name": "Python 3"
    }
  },
  "cells": [
    {
      "cell_type": "markdown",
      "metadata": {
        "id": "view-in-github",
        "colab_type": "text"
      },
      "source": [
        "<a href=\"https://colab.research.google.com/github/Kushagratandon12/Data-Structues-Algo/blob/master/Python.ipynb\" target=\"_parent\"><img src=\"https://colab.research.google.com/assets/colab-badge.svg\" alt=\"Open In Colab\"/></a>"
      ]
    },
    {
      "cell_type": "code",
      "metadata": {
        "id": "krACdfxXTtWg",
        "colab_type": "code",
        "outputId": "fa69687d-c9cd-4787-fce4-9637e09ba8be",
        "colab": {
          "base_uri": "https://localhost:8080/",
          "height": 34
        }
      },
      "source": [
        "import random as r\n",
        "r.random()\n",
        "r.randint(1,20)\n"
      ],
      "execution_count": 0,
      "outputs": [
        {
          "output_type": "execute_result",
          "data": {
            "text/plain": [
              "15"
            ]
          },
          "metadata": {
            "tags": []
          },
          "execution_count": 22
        }
      ]
    },
    {
      "cell_type": "code",
      "metadata": {
        "id": "n0SeNwSFVm6J",
        "colab_type": "code",
        "outputId": "19619a19-9978-45ab-c93c-da214c87d89c",
        "colab": {
          "base_uri": "https://localhost:8080/",
          "height": 85
        }
      },
      "source": [
        "t=[10,15,20,25,30]\n",
        "print(t)\n",
        "print(max(t))\n",
        "print(min(t))\n",
        "print(r.choice(t))"
      ],
      "execution_count": 0,
      "outputs": [
        {
          "output_type": "stream",
          "text": [
            "[10, 15, 20, 25, 30]\n",
            "30\n",
            "10\n",
            "25\n"
          ],
          "name": "stdout"
        }
      ]
    },
    {
      "cell_type": "code",
      "metadata": {
        "id": "cVb7SsptWrul",
        "colab_type": "code",
        "outputId": "387a9dbe-a8e3-42bb-bf3a-aaf2c89c79d0",
        "colab": {
          "base_uri": "https://localhost:8080/",
          "height": 34
        }
      },
      "source": [
        "import math as m\n",
        "m.sin(60*m.pi/180)\n",
        "m.sin(90)\n",
        "m.asin(.5)"
      ],
      "execution_count": 0,
      "outputs": [
        {
          "output_type": "execute_result",
          "data": {
            "text/plain": [
              "0.5235987755982989"
            ]
          },
          "metadata": {
            "tags": []
          },
          "execution_count": 7
        }
      ]
    },
    {
      "cell_type": "code",
      "metadata": {
        "id": "aL5MjlQ3BKoV",
        "colab_type": "code",
        "outputId": "d2e29daa-4703-4697-c6b3-370380388613",
        "colab": {
          "base_uri": "https://localhost:8080/",
          "height": 103
        }
      },
      "source": [
        "def sum2(a,b):\n",
        "  print(a+b)\n",
        "a=30\n",
        "b=40\n",
        "sum2(a,b)\n",
        "print(sum2)\n",
        "print(type(sum2))\n",
        "print(print)\n",
        "type(print)\n",
        "print(type)\n"
      ],
      "execution_count": 0,
      "outputs": [
        {
          "output_type": "stream",
          "text": [
            "70\n",
            "<function sum2 at 0x7f8d885ac158>\n",
            "<class 'function'>\n",
            "<built-in function print>\n",
            "<class 'type'>\n"
          ],
          "name": "stdout"
        }
      ]
    },
    {
      "cell_type": "code",
      "metadata": {
        "id": "feyT_EFg9iBj",
        "colab_type": "code",
        "outputId": "49360c30-a7c3-4737-b13e-13d9826cb3a7",
        "colab": {
          "base_uri": "https://localhost:8080/",
          "height": 51
        }
      },
      "source": [
        "def Myfucn(a,b):\n",
        "  print(\"Kushagra Tandon\")\n",
        "  print(a,b)\n",
        "\n",
        "x=110\n",
        "y=14\n",
        "Myfucn(x,y)\n"
      ],
      "execution_count": 0,
      "outputs": [
        {
          "output_type": "stream",
          "text": [
            "Kushagra Tandon\n",
            "110 14\n"
          ],
          "name": "stdout"
        }
      ]
    },
    {
      "cell_type": "code",
      "metadata": {
        "id": "cTnrMmdUD_Q-",
        "colab_type": "code",
        "colab": {}
      },
      "source": [
        "def result(a,b,c):\n",
        "  if(a<(a*30/100) or b<(b*30/100) or c<(c*30/100)):\n",
        "    return 0\n",
        "  else:\n",
        "    return 1\n",
        "\n",
        "a=result(10,10,10)\n",
        "if(a==1):\n",
        "  print(\"Passed\")\n",
        "else:\n",
        "  print(\"FaFaiFaFail\")\n",
        "\n",
        "\n",
        "  "
      ],
      "execution_count": 0,
      "outputs": []
    },
    {
      "cell_type": "code",
      "metadata": {
        "id": "Ps0J4drxMm28",
        "colab_type": "code",
        "outputId": "ab85305e-d877-450e-8635-40f628432015",
        "colab": {
          "base_uri": "https://localhost:8080/",
          "height": 377
        }
      },
      "source": [
        "i =1\n",
        "x=int(input())\n",
        "while(i<=20):\n",
        "  print(x,'x' , i ,'=',x*i)\n",
        "  i=i+1\n",
        "\n",
        "\n"
      ],
      "execution_count": 0,
      "outputs": [
        {
          "output_type": "stream",
          "text": [
            "9\n",
            "9 x 1 = 9\n",
            "9 x 2 = 18\n",
            "9 x 3 = 27\n",
            "9 x 4 = 36\n",
            "9 x 5 = 45\n",
            "9 x 6 = 54\n",
            "9 x 7 = 63\n",
            "9 x 8 = 72\n",
            "9 x 9 = 81\n",
            "9 x 10 = 90\n",
            "9 x 11 = 99\n",
            "9 x 12 = 108\n",
            "9 x 13 = 117\n",
            "9 x 14 = 126\n",
            "9 x 15 = 135\n",
            "9 x 16 = 144\n",
            "9 x 17 = 153\n",
            "9 x 18 = 162\n",
            "9 x 19 = 171\n",
            "9 x 20 = 180\n"
          ],
          "name": "stdout"
        }
      ]
    },
    {
      "cell_type": "code",
      "metadata": {
        "id": "zCklMoBzOrE6",
        "colab_type": "code",
        "colab": {}
      },
      "source": [
        "h=21%4\n",
        "print(h)\n"
      ],
      "execution_count": 0,
      "outputs": []
    },
    {
      "cell_type": "code",
      "metadata": {
        "id": "j4dIECaF0iUZ",
        "colab_type": "code",
        "outputId": "5d9d2e89-ee68-4327-c5d0-12adbfa9218e",
        "colab": {
          "base_uri": "https://localhost:8080/",
          "height": 103
        }
      },
      "source": [
        "while True:\n",
        "  line=input(\" Enter a string \")\n",
        "  if line==\"done\":\n",
        "    break\n",
        "  print(line)"
      ],
      "execution_count": 0,
      "outputs": [
        {
          "output_type": "stream",
          "text": [
            "Enter a stringKushagra\n",
            "Kushagra\n",
            "Enter a stringDone\n",
            "Done\n",
            "Enter a stringdone\n"
          ],
          "name": "stdout"
        }
      ]
    },
    {
      "cell_type": "code",
      "metadata": {
        "id": "tLh5FhHtRC8h",
        "colab_type": "code",
        "outputId": "450eef8a-3cba-4499-9d8d-52d997b6527c",
        "colab": {
          "base_uri": "https://localhost:8080/",
          "height": 223
        }
      },
      "source": [
        "while True:\n",
        "  line=input('>')\n",
        "  if line[0] =='#':\n",
        "    continue\n",
        "  elif line=='done':\n",
        "    break\n",
        "  else:\n",
        "    print(line)\n",
        "\n",
        "\n"
      ],
      "execution_count": 0,
      "outputs": [
        {
          "output_type": "stream",
          "text": [
            ">#\n",
            ">Kush\n",
            "Kush\n",
            ">Hello\n",
            "Hello\n",
            ">Hi\n",
            "Hi\n",
            ">#hi\n",
            ">#welcoke\n",
            ">Don3\n",
            "Don3\n",
            ">done\n"
          ],
          "name": "stdout"
        }
      ]
    },
    {
      "cell_type": "code",
      "metadata": {
        "id": "VlCVBpx-Yuhi",
        "colab_type": "code",
        "outputId": "0907773a-0e8e-4fe5-db05-31e62ff70566",
        "colab": {
          "base_uri": "https://localhost:8080/",
          "height": 51
        }
      },
      "source": [
        "for i in ['Kushagra','samarth']:\n",
        "  print(\"welcome\",i)\n"
      ],
      "execution_count": 0,
      "outputs": [
        {
          "output_type": "stream",
          "text": [
            "welcome Kushagra\n",
            "welcome samarth\n"
          ],
          "name": "stdout"
        }
      ]
    },
    {
      "cell_type": "code",
      "metadata": {
        "id": "EmWK88hv95ds",
        "colab_type": "code",
        "outputId": "c48f4a8c-a4cf-44a7-a301-e24349314697",
        "colab": {
          "base_uri": "https://localhost:8080/",
          "height": 34
        }
      },
      "source": [
        "for i in [10,20,30,40,50]:\n",
        "  print(i,end='\\t')\n"
      ],
      "execution_count": 0,
      "outputs": [
        {
          "output_type": "stream",
          "text": [
            "10\t20\t30\t40\t50\t"
          ],
          "name": "stdout"
        }
      ]
    },
    {
      "cell_type": "code",
      "metadata": {
        "id": "YYnSPzTb-zOS",
        "colab_type": "code",
        "outputId": "d571f561-eb91-46b4-8227-d868040a5f77",
        "colab": {
          "base_uri": "https://localhost:8080/",
          "height": 120
        }
      },
      "source": [
        "a=[10,20,30,40,50,3]\n",
        "for i in a:\n",
        "  print(i)\n"
      ],
      "execution_count": 0,
      "outputs": [
        {
          "output_type": "stream",
          "text": [
            "10\n",
            "20\n",
            "30\n",
            "40\n",
            "50\n",
            "3\n"
          ],
          "name": "stdout"
        }
      ]
    },
    {
      "cell_type": "code",
      "metadata": {
        "id": "hwW_y0Ev_Sfr",
        "colab_type": "code",
        "outputId": "ac5cc1e2-d466-4d33-fa75-5506028b2ce8",
        "colab": {
          "base_uri": "https://localhost:8080/",
          "height": 171
        }
      },
      "source": [
        "a='kushagra'\n",
        "c=a.split()\n",
        "print(c)\n",
        "name='Kushagra'\n",
        "for everychar in name:\n",
        "  print(everychar)"
      ],
      "execution_count": 0,
      "outputs": [
        {
          "output_type": "stream",
          "text": [
            "['kushagra']\n",
            "K\n",
            "u\n",
            "s\n",
            "h\n",
            "a\n",
            "g\n",
            "r\n",
            "a\n"
          ],
          "name": "stdout"
        }
      ]
    },
    {
      "cell_type": "code",
      "metadata": {
        "id": "KcJiWTJZAqxI",
        "colab_type": "code",
        "outputId": "112b29c9-4f59-4bdb-e036-5c86bbab9a32",
        "colab": {
          "base_uri": "https://localhost:8080/",
          "height": 531
        }
      },
      "source": [
        "for num in range(1,10,1):\n",
        "  print(num)\n",
        "print('space')\n",
        "for i in range(10):\n",
        "  print(i)\n",
        "print('space')\n",
        "for i in range(1,10):\n",
        "  print(i)"
      ],
      "execution_count": 0,
      "outputs": [
        {
          "output_type": "stream",
          "text": [
            "1\n",
            "2\n",
            "3\n",
            "4\n",
            "5\n",
            "6\n",
            "7\n",
            "8\n",
            "9\n",
            "space\n",
            "0\n",
            "1\n",
            "2\n",
            "3\n",
            "4\n",
            "5\n",
            "6\n",
            "7\n",
            "8\n",
            "9\n",
            "space\n",
            "1\n",
            "2\n",
            "3\n",
            "4\n",
            "5\n",
            "6\n",
            "7\n",
            "8\n",
            "9\n"
          ],
          "name": "stdout"
        }
      ]
    },
    {
      "cell_type": "code",
      "metadata": {
        "colab_type": "code",
        "id": "jSYH9qpGCtZx",
        "outputId": "e6888006-49b0-4df9-ef96-6ef0dc1662b8",
        "colab": {
          "base_uri": "https://localhost:8080/",
          "height": 154
        }
      },
      "source": [
        "for i in range(len( name)):\n",
        "  print(name[i])"
      ],
      "execution_count": 0,
      "outputs": [
        {
          "output_type": "stream",
          "text": [
            "K\n",
            "u\n",
            "s\n",
            "h\n",
            "a\n",
            "g\n",
            "r\n",
            "a\n"
          ],
          "name": "stdout"
        }
      ]
    },
    {
      "cell_type": "code",
      "metadata": {
        "id": "iVyZrzHnDLCV",
        "colab_type": "code",
        "outputId": "c841c2c5-bf0a-4d13-987f-ff5b0ad925d8",
        "colab": {
          "base_uri": "https://localhost:8080/",
          "height": 34
        }
      },
      "source": [
        "a=[10,30,50,60,70]\n",
        "for i in range(len(a)):\n",
        "  print(max(a))\n",
        "  break"
      ],
      "execution_count": 0,
      "outputs": [
        {
          "output_type": "stream",
          "text": [
            "70\n"
          ],
          "name": "stdout"
        }
      ]
    },
    {
      "cell_type": "code",
      "metadata": {
        "id": "h7XLm9V8FGC4",
        "colab_type": "code",
        "outputId": "9a658eac-d16c-457e-c625-aed01e33de7c",
        "colab": {
          "base_uri": "https://localhost:8080/",
          "height": 51
        }
      },
      "source": [
        "vowels =0\n",
        "consonant=0\n",
        "b='Schwarzenegger'\n",
        "for ch in b:\n",
        "  if ch =='a' or ch=='e' or ch=='i' or ch=='o' or ch=='u':\n",
        "    vowels+=1\n",
        "  else:\n",
        "    consonant+=1\n",
        "print(vowels)\n",
        "print(consonant)"
      ],
      "execution_count": 0,
      "outputs": [
        {
          "output_type": "stream",
          "text": [
            "4\n",
            "10\n"
          ],
          "name": "stdout"
        }
      ]
    },
    {
      "cell_type": "code",
      "metadata": {
        "id": "x62ozdYxGnwJ",
        "colab_type": "code",
        "outputId": "743ebcf3-8a77-4445-a7e6-2f0558313bd0",
        "colab": {
          "base_uri": "https://localhost:8080/",
          "height": 34
        }
      },
      "source": [
        "sum1=0\n",
        "for i in range(0,51,2):\n",
        "  sum1=sum1+i\n",
        "print( sum1)"
      ],
      "execution_count": 0,
      "outputs": [
        {
          "output_type": "stream",
          "text": [
            "650\n"
          ],
          "name": "stdout"
        }
      ]
    },
    {
      "cell_type": "code",
      "metadata": {
        "id": "NKBwz990HwVU",
        "colab_type": "code",
        "outputId": "4beea746-14a3-4f8d-f874-ff412f97b3eb",
        "colab": {
          "base_uri": "https://localhost:8080/",
          "height": 223
        }
      },
      "source": [
        "greet='Hello WWorld'\n",
        "greet.split()\n",
        "for i in range(0,len(greet)):\n",
        "  print(i)"
      ],
      "execution_count": 0,
      "outputs": [
        {
          "output_type": "stream",
          "text": [
            "0\n",
            "1\n",
            "2\n",
            "3\n",
            "4\n",
            "5\n",
            "6\n",
            "7\n",
            "8\n",
            "9\n",
            "10\n",
            "11\n"
          ],
          "name": "stdout"
        }
      ]
    },
    {
      "cell_type": "code",
      "metadata": {
        "id": "b-akDFBgJTLC",
        "colab_type": "code",
        "colab": {
          "base_uri": "https://localhost:8080/",
          "height": 88
        },
        "outputId": "6b1dfb8c-08ae-4b17-a43c-d192580482c5"
      },
      "source": [
        "s='Hello World' \n",
        "print(s[10])\n",
        "print(s[9])\n",
        "for i in s:\n",
        "  print(i,end='\\t')"
      ],
      "execution_count": 8,
      "outputs": [
        {
          "output_type": "stream",
          "text": [
            "d\n",
            "l\n",
            "H\te\tl\tl\to\t \tW\to\tr\tl\td\t"
          ],
          "name": "stdout"
        }
      ]
    },
    {
      "cell_type": "code",
      "metadata": {
        "id": "A7mnUYYtKQBg",
        "colab_type": "code",
        "colab": {
          "base_uri": "https://localhost:8080/",
          "height": 34
        },
        "outputId": "8fa3aaea-e5d0-4b8e-ebd9-41ba7bf0f864"
      },
      "source": [
        "i=0;\n",
        "while(i<len(s)):\n",
        "  print(s[i],end='')\n",
        "  i+=1"
      ],
      "execution_count": 10,
      "outputs": [
        {
          "output_type": "stream",
          "text": [
            "Hello World"
          ],
          "name": "stdout"
        }
      ]
    },
    {
      "cell_type": "code",
      "metadata": {
        "id": "EgZzqZMMK2k5",
        "colab_type": "code",
        "colab": {
          "base_uri": "https://localhost:8080/",
          "height": 120
        },
        "outputId": "fff55fa1-6159-477d-9cd9-a51782a57b5d"
      },
      "source": [
        "print(s[0:5:1])\n",
        "print(s[1:4])\n",
        "print(s[2:7])\n",
        "print('space')\n",
        "print(s[-1:1])\n",
        "print(s[::-1])"
      ],
      "execution_count": 20,
      "outputs": [
        {
          "output_type": "stream",
          "text": [
            "Hello\n",
            "ell\n",
            "llo W\n",
            "space\n",
            "\n",
            "dlroW olleH\n"
          ],
          "name": "stdout"
        }
      ]
    },
    {
      "cell_type": "code",
      "metadata": {
        "id": "LSOttggwNutq",
        "colab_type": "code",
        "colab": {
          "base_uri": "https://localhost:8080/",
          "height": 34
        },
        "outputId": "e4596ea3-a864-4c34-bd65-767cc2616c6c"
      },
      "source": [
        "st='madam'\n",
        "rev=st[::-1]\n",
        "if st == rev:\n",
        "  print('Palindrom')\n",
        "else:\n",
        "  print('not')\n"
      ],
      "execution_count": 33,
      "outputs": [
        {
          "output_type": "stream",
          "text": [
            "Palindrom\n"
          ],
          "name": "stdout"
        }
      ]
    },
    {
      "cell_type": "code",
      "metadata": {
        "id": "FIwRKJPbPoSe",
        "colab_type": "code",
        "colab": {
          "base_uri": "https://localhost:8080/",
          "height": 51
        },
        "outputId": "16f3a099-9526-400d-fce8-d0ba2ea6ed19"
      },
      "source": [
        "s='Kushagra'\n",
        "c=s.split()\n",
        "c.append(' Tandon ')\n",
        "print(c)\n",
        "ch=''.join(c)\n",
        "print(ch)\n"
      ],
      "execution_count": 43,
      "outputs": [
        {
          "output_type": "stream",
          "text": [
            "['Kushagra', ' Tandon ']\n",
            "Kushagra Tandon \n"
          ],
          "name": "stdout"
        }
      ]
    }
  ]
}